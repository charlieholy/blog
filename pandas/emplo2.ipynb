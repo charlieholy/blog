{
 "cells": [
  {
   "cell_type": "code",
   "execution_count": 8,
   "metadata": {},
   "outputs": [],
   "source": [
    "import pandas as pd\n",
    "from sklearn.decomposition import PCA\n",
    "df = pd.read_excel('./emploee.xls')\n",
    "\n",
    "col = list(df.columns)\n",
    "col\n",
    "\n",
    "df[col] = df[col].apply(pd.to_numeric, errors='coerce').fillna(0.0)"
   ]
  },
  {
   "cell_type": "code",
   "execution_count": 23,
   "metadata": {},
   "outputs": [
    {
     "data": {
      "text/plain": [
       "['一级部门', '二级部门', '填写人', '日报日期', '归属项目', '工作类型', '工时', '工作内容', '关联禅道任务']"
      ]
     },
     "execution_count": 23,
     "metadata": {},
     "output_type": "execute_result"
    }
   ],
   "source": [
    "df = pd.DataFrame(df, dtype='float')\n",
    "X = df.values\n",
    "X\n",
    "col"
   ]
  },
  {
   "cell_type": "code",
   "execution_count": 14,
   "metadata": {},
   "outputs": [],
   "source": [
    "#调用PCA\n",
    "pca = PCA(n_components=2)           #实例化\n",
    "pca = pca.fit(X)                    #拟合模型\n",
    "X_dr = pca.transform(X)             #获取新矩阵"
   ]
  },
  {
   "cell_type": "code",
   "execution_count": 15,
   "metadata": {},
   "outputs": [
    {
     "data": {
      "text/plain": [
       "array([[1.66157315, 0.        ],\n",
       "       [1.66157315, 0.        ],\n",
       "       [0.66157315, 0.        ],\n",
       "       ...,\n",
       "       [1.66157315, 0.        ],\n",
       "       [1.66157315, 0.        ],\n",
       "       [1.66157315, 0.        ]])"
      ]
     },
     "execution_count": 15,
     "metadata": {},
     "output_type": "execute_result"
    }
   ],
   "source": [
    "X_dr"
   ]
  },
  {
   "cell_type": "code",
   "execution_count": 20,
   "metadata": {},
   "outputs": [],
   "source": [
    "X_dr.shape\n",
    "X_dr[:,0:1]\n",
    "X_f = X_dr.flatten()"
   ]
  },
  {
   "cell_type": "code",
   "execution_count": 21,
   "metadata": {},
   "outputs": [
    {
     "data": {
      "text/plain": [
       "[<matplotlib.lines.Line2D at 0x11b943090>]"
      ]
     },
     "execution_count": 21,
     "metadata": {},
     "output_type": "execute_result"
    },
    {
     "data": {
      "image/png": "[encoded data removed]",
      "text/plain": [
       "<Figure size 432x288 with 1 Axes>"
      ]
     },
     "metadata": {
      "needs_background": "light"
     },
     "output_type": "display_data"
    }
   ],
   "source": [
    "import matplotlib.pyplot as plt\n",
    "plt.plot(X_f)"
   ]
  },
  {
   "cell_type": "code",
   "execution_count": 31,
   "metadata": {},
   "outputs": [],
   "source": [
    "df = pd.DataFrame(df, dtype='float')\n",
    "tm=df['工时'].values"
   ]
  },
  {
   "cell_type": "code",
   "execution_count": 32,
   "metadata": {},
   "outputs": [
    {
     "data": {
      "text/plain": [
       "[<matplotlib.lines.Line2D at 0x11c199ed0>]"
      ]
     },
     "execution_count": 32,
     "metadata": {},
     "output_type": "execute_result"
    },
    {
     "data": {
      "image/png": "[encoded data removed]",
      "text/plain": [
       "<Figure size 432x288 with 1 Axes>"
      ]
     },
     "metadata": {
      "needs_background": "light"
     },
     "output_type": "display_data"
    }
   ],
   "source": [
    "plt.plot(tm)"
   ]
  },
  {
   "cell_type": "code",
   "execution_count": 36,
   "metadata": {},
   "outputs": [
    {
     "data": {
      "text/plain": [
       "array([7.5, 9. , 7.5, 7.5, 4.5, 7.5, 7.5, 7.5, 3.5, 7.5])"
      ]
     },
     "execution_count": 36,
     "metadata": {},
     "output_type": "execute_result"
    }
   ],
   "source": [
    "tm[20:30]"
   ]
  },
  {
   "cell_type": "code",
   "execution_count": 37,
   "metadata": {},
   "outputs": [
    {
     "data": {
      "text/html": [
       "<div>\n",
       "<style scoped>\n",
       "    .dataframe tbody tr th:only-of-type {\n",
       "        vertical-align: middle;\n",
       "    }\n",
       "\n",
       "    .dataframe tbody tr th {\n",
       "        vertical-align: top;\n",
       "    }\n",
       "\n",
       "    .dataframe thead th {\n",
       "        text-align: right;\n",
       "    }\n",
       "</style>\n",
       "<table border=\"1\" class=\"dataframe\">\n",
       "  <thead>\n",
       "    <tr style=\"text-align: right;\">\n",
       "      <th></th>\n",
       "      <th>一级部门</th>\n",
       "      <th>二级部门</th>\n",
       "      <th>填写人</th>\n",
       "      <th>日报日期</th>\n",
       "      <th>归属项目</th>\n",
       "      <th>工作类型</th>\n",
       "      <th>工时</th>\n",
       "      <th>工作内容</th>\n",
       "      <th>关联禅道任务</th>\n",
       "    </tr>\n",
       "  </thead>\n",
       "  <tbody>\n",
       "    <tr>\n",
       "      <th>0</th>\n",
       "      <td>0.0</td>\n",
       "      <td>0.0</td>\n",
       "      <td>0.0</td>\n",
       "      <td>0.0</td>\n",
       "      <td>0.0</td>\n",
       "      <td>0.0</td>\n",
       "      <td>7.5</td>\n",
       "      <td>0.0</td>\n",
       "      <td>0.0</td>\n",
       "    </tr>\n",
       "    <tr>\n",
       "      <th>1</th>\n",
       "      <td>0.0</td>\n",
       "      <td>0.0</td>\n",
       "      <td>0.0</td>\n",
       "      <td>0.0</td>\n",
       "      <td>0.0</td>\n",
       "      <td>0.0</td>\n",
       "      <td>7.5</td>\n",
       "      <td>0.0</td>\n",
       "      <td>0.0</td>\n",
       "    </tr>\n",
       "    <tr>\n",
       "      <th>2</th>\n",
       "      <td>0.0</td>\n",
       "      <td>0.0</td>\n",
       "      <td>0.0</td>\n",
       "      <td>0.0</td>\n",
       "      <td>0.0</td>\n",
       "      <td>0.0</td>\n",
       "      <td>6.5</td>\n",
       "      <td>0.0</td>\n",
       "      <td>0.0</td>\n",
       "    </tr>\n",
       "    <tr>\n",
       "      <th>3</th>\n",
       "      <td>0.0</td>\n",
       "      <td>0.0</td>\n",
       "      <td>0.0</td>\n",
       "      <td>0.0</td>\n",
       "      <td>0.0</td>\n",
       "      <td>0.0</td>\n",
       "      <td>7.5</td>\n",
       "      <td>0.0</td>\n",
       "      <td>0.0</td>\n",
       "    </tr>\n",
       "    <tr>\n",
       "      <th>4</th>\n",
       "      <td>0.0</td>\n",
       "      <td>0.0</td>\n",
       "      <td>0.0</td>\n",
       "      <td>0.0</td>\n",
       "      <td>0.0</td>\n",
       "      <td>0.0</td>\n",
       "      <td>7.5</td>\n",
       "      <td>0.0</td>\n",
       "      <td>0.0</td>\n",
       "    </tr>\n",
       "    <tr>\n",
       "      <th>...</th>\n",
       "      <td>...</td>\n",
       "      <td>...</td>\n",
       "      <td>...</td>\n",
       "      <td>...</td>\n",
       "      <td>...</td>\n",
       "      <td>...</td>\n",
       "      <td>...</td>\n",
       "      <td>...</td>\n",
       "      <td>...</td>\n",
       "    </tr>\n",
       "    <tr>\n",
       "      <th>1991</th>\n",
       "      <td>0.0</td>\n",
       "      <td>0.0</td>\n",
       "      <td>0.0</td>\n",
       "      <td>0.0</td>\n",
       "      <td>0.0</td>\n",
       "      <td>0.0</td>\n",
       "      <td>0.5</td>\n",
       "      <td>0.0</td>\n",
       "      <td>0.0</td>\n",
       "    </tr>\n",
       "    <tr>\n",
       "      <th>1992</th>\n",
       "      <td>0.0</td>\n",
       "      <td>0.0</td>\n",
       "      <td>0.0</td>\n",
       "      <td>0.0</td>\n",
       "      <td>0.0</td>\n",
       "      <td>0.0</td>\n",
       "      <td>7.0</td>\n",
       "      <td>0.0</td>\n",
       "      <td>0.0</td>\n",
       "    </tr>\n",
       "    <tr>\n",
       "      <th>1993</th>\n",
       "      <td>0.0</td>\n",
       "      <td>0.0</td>\n",
       "      <td>0.0</td>\n",
       "      <td>0.0</td>\n",
       "      <td>0.0</td>\n",
       "      <td>0.0</td>\n",
       "      <td>7.5</td>\n",
       "      <td>0.0</td>\n",
       "      <td>0.0</td>\n",
       "    </tr>\n",
       "    <tr>\n",
       "      <th>1994</th>\n",
       "      <td>0.0</td>\n",
       "      <td>0.0</td>\n",
       "      <td>0.0</td>\n",
       "      <td>0.0</td>\n",
       "      <td>0.0</td>\n",
       "      <td>0.0</td>\n",
       "      <td>7.5</td>\n",
       "      <td>0.0</td>\n",
       "      <td>0.0</td>\n",
       "    </tr>\n",
       "    <tr>\n",
       "      <th>1995</th>\n",
       "      <td>0.0</td>\n",
       "      <td>0.0</td>\n",
       "      <td>0.0</td>\n",
       "      <td>0.0</td>\n",
       "      <td>0.0</td>\n",
       "      <td>0.0</td>\n",
       "      <td>7.5</td>\n",
       "      <td>0.0</td>\n",
       "      <td>0.0</td>\n",
       "    </tr>\n",
       "  </tbody>\n",
       "</table>\n",
       "<p>1996 rows × 9 columns</p>\n",
       "</div>"
      ],
      "text/plain": [
       "      一级部门  二级部门  填写人  日报日期  归属项目  工作类型   工时  工作内容  关联禅道任务\n",
       "0      0.0   0.0  0.0   0.0   0.0   0.0  7.5   0.0     0.0\n",
       "1      0.0   0.0  0.0   0.0   0.0   0.0  7.5   0.0     0.0\n",
       "2      0.0   0.0  0.0   0.0   0.0   0.0  6.5   0.0     0.0\n",
       "3      0.0   0.0  0.0   0.0   0.0   0.0  7.5   0.0     0.0\n",
       "4      0.0   0.0  0.0   0.0   0.0   0.0  7.5   0.0     0.0\n",
       "...    ...   ...  ...   ...   ...   ...  ...   ...     ...\n",
       "1991   0.0   0.0  0.0   0.0   0.0   0.0  0.5   0.0     0.0\n",
       "1992   0.0   0.0  0.0   0.0   0.0   0.0  7.0   0.0     0.0\n",
       "1993   0.0   0.0  0.0   0.0   0.0   0.0  7.5   0.0     0.0\n",
       "1994   0.0   0.0  0.0   0.0   0.0   0.0  7.5   0.0     0.0\n",
       "1995   0.0   0.0  0.0   0.0   0.0   0.0  7.5   0.0     0.0\n",
       "\n",
       "[1996 rows x 9 columns]"
      ]
     },
     "execution_count": 37,
     "metadata": {},
     "output_type": "execute_result"
    }
   ],
   "source": [
    "df"
   ]
  },
  {
   "cell_type": "code",
   "execution_count": 38,
   "metadata": {},
   "outputs": [],
   "source": [
    "df = pd.read_excel('./emploee.xls')"
   ]
  },
  {
   "cell_type": "code",
   "execution_count": 45,
   "metadata": {},
   "outputs": [
    {
     "data": {
      "text/html": [
       "<div>\n",
       "<style scoped>\n",
       "    .dataframe tbody tr th:only-of-type {\n",
       "        vertical-align: middle;\n",
       "    }\n",
       "\n",
       "    .dataframe tbody tr th {\n",
       "        vertical-align: top;\n",
       "    }\n",
       "\n",
       "    .dataframe thead th {\n",
       "        text-align: right;\n",
       "    }\n",
       "</style>\n",
       "<table border=\"1\" class=\"dataframe\">\n",
       "  <thead>\n",
       "    <tr style=\"text-align: right;\">\n",
       "      <th></th>\n",
       "      <th>一级部门</th>\n",
       "      <th>二级部门</th>\n",
       "      <th>填写人</th>\n",
       "      <th>日报日期</th>\n",
       "      <th>归属项目</th>\n",
       "      <th>工作类型</th>\n",
       "      <th>工时</th>\n",
       "      <th>工作内容</th>\n",
       "      <th>关联禅道任务</th>\n",
       "    </tr>\n",
       "  </thead>\n",
       "  <tbody>\n",
       "    <tr>\n",
       "      <th>16</th>\n",
       "      <td>智能产品部</td>\n",
       "      <td>测试部</td>\n",
       "      <td>朱晓盈</td>\n",
       "      <td>2020/3/30</td>\n",
       "      <td>智能交互产品研发项目</td>\n",
       "      <td>测试工作</td>\n",
       "      <td>11.0</td>\n",
       "      <td>1.性能测试及报告整理\\n2.jenkins配置每日ci-执行测试用例\\n3.机器人外呼bug验证</td>\n",
       "      <td>NaN</td>\n",
       "    </tr>\n",
       "    <tr>\n",
       "      <th>228</th>\n",
       "      <td>智能产品部</td>\n",
       "      <td>智能中台产品部</td>\n",
       "      <td>张剑</td>\n",
       "      <td>2020/3/26</td>\n",
       "      <td>宁波银行信用卡中心质检分析项目</td>\n",
       "      <td>开发工作</td>\n",
       "      <td>20.0</td>\n",
       "      <td>宁波银行项目上线</td>\n",
       "      <td>NaN</td>\n",
       "    </tr>\n",
       "    <tr>\n",
       "      <th>249</th>\n",
       "      <td>智能产品部</td>\n",
       "      <td>测试部</td>\n",
       "      <td>朱海斌</td>\n",
       "      <td>2020/3/26</td>\n",
       "      <td>江苏省12345市长热线项目</td>\n",
       "      <td>实施工作</td>\n",
       "      <td>12.0</td>\n",
       "      <td>安装部署测试环境</td>\n",
       "      <td>NaN</td>\n",
       "    </tr>\n",
       "    <tr>\n",
       "      <th>385</th>\n",
       "      <td>智能产品部</td>\n",
       "      <td>前端开发部</td>\n",
       "      <td>吴娜</td>\n",
       "      <td>2020/3/24</td>\n",
       "      <td>江苏联通邮政智能客服项目</td>\n",
       "      <td>开发工作</td>\n",
       "      <td>12.0</td>\n",
       "      <td>客户环境联调，整个流程测试。活动接口联调</td>\n",
       "      <td>NaN</td>\n",
       "    </tr>\n",
       "    <tr>\n",
       "      <th>476</th>\n",
       "      <td>智能产品部</td>\n",
       "      <td>前端开发部</td>\n",
       "      <td>吴娜</td>\n",
       "      <td>2020/3/23</td>\n",
       "      <td>江苏联通邮政智能客服项目</td>\n",
       "      <td>开发工作</td>\n",
       "      <td>11.5</td>\n",
       "      <td>App优化，客户环境联调，扫码接口联调</td>\n",
       "      <td>NaN</td>\n",
       "    </tr>\n",
       "    <tr>\n",
       "      <th>1160</th>\n",
       "      <td>智能产品部</td>\n",
       "      <td>智能中台产品部</td>\n",
       "      <td>杨成龙</td>\n",
       "      <td>2020/3/12</td>\n",
       "      <td>智能中台产品研发项目</td>\n",
       "      <td>开发工作</td>\n",
       "      <td>10.5</td>\n",
       "      <td>河南etc项目一些问题讨论，联通项目改动评估及工时评估。</td>\n",
       "      <td>NaN</td>\n",
       "    </tr>\n",
       "    <tr>\n",
       "      <th>1365</th>\n",
       "      <td>智能产品部</td>\n",
       "      <td>智能中台产品部</td>\n",
       "      <td>韩栋</td>\n",
       "      <td>2020/3/10</td>\n",
       "      <td>陕西广电智能语音质检</td>\n",
       "      <td>开发工作</td>\n",
       "      <td>11.5</td>\n",
       "      <td>es超时问题排查;数据清理</td>\n",
       "      <td>NaN</td>\n",
       "    </tr>\n",
       "    <tr>\n",
       "      <th>1498</th>\n",
       "      <td>智能产品部</td>\n",
       "      <td>测试部</td>\n",
       "      <td>金锐</td>\n",
       "      <td>2020/3/9</td>\n",
       "      <td>智能交互产品研发项目</td>\n",
       "      <td>测试工作</td>\n",
       "      <td>10.5</td>\n",
       "      <td>机器人正则bug回归，完成失败用例一个；\\n康源留言优化测试和支持线上回归测试</td>\n",
       "      <td>NaN</td>\n",
       "    </tr>\n",
       "    <tr>\n",
       "      <th>1915</th>\n",
       "      <td>智能产品部</td>\n",
       "      <td>产品中心</td>\n",
       "      <td>姜涛</td>\n",
       "      <td>2020/3/2</td>\n",
       "      <td>部门管理</td>\n",
       "      <td>其它工作</td>\n",
       "      <td>12.0</td>\n",
       "      <td>1、三月份需求规划整理\\n2、二月份需求跟进</td>\n",
       "      <td>NaN</td>\n",
       "    </tr>\n",
       "  </tbody>\n",
       "</table>\n",
       "</div>"
      ],
      "text/plain": [
       "       一级部门     二级部门  填写人        日报日期             归属项目  工作类型    工时  \\\n",
       "16    智能产品部      测试部  朱晓盈  2020/3/30        智能交互产品研发项目  测试工作  11.0   \n",
       "228   智能产品部  智能中台产品部   张剑  2020/3/26   宁波银行信用卡中心质检分析项目  开发工作  20.0   \n",
       "249   智能产品部      测试部  朱海斌  2020/3/26    江苏省12345市长热线项目  实施工作  12.0   \n",
       "385   智能产品部    前端开发部   吴娜  2020/3/24      江苏联通邮政智能客服项目  开发工作  12.0   \n",
       "476   智能产品部    前端开发部   吴娜  2020/3/23      江苏联通邮政智能客服项目  开发工作  11.5   \n",
       "1160  智能产品部  智能中台产品部  杨成龙  2020/3/12        智能中台产品研发项目  开发工作  10.5   \n",
       "1365  智能产品部  智能中台产品部   韩栋  2020/3/10        陕西广电智能语音质检  开发工作  11.5   \n",
       "1498  智能产品部      测试部   金锐   2020/3/9        智能交互产品研发项目  测试工作  10.5   \n",
       "1915  智能产品部     产品中心   姜涛   2020/3/2              部门管理  其它工作  12.0   \n",
       "\n",
       "                                                   工作内容 关联禅道任务  \n",
       "16    1.性能测试及报告整理\\n2.jenkins配置每日ci-执行测试用例\\n3.机器人外呼bug验证    NaN  \n",
       "228                                            宁波银行项目上线    NaN  \n",
       "249                                            安装部署测试环境    NaN  \n",
       "385                                客户环境联调，整个流程测试。活动接口联调    NaN  \n",
       "476                                 App优化，客户环境联调，扫码接口联调    NaN  \n",
       "1160                       河南etc项目一些问题讨论，联通项目改动评估及工时评估。    NaN  \n",
       "1365                                      es超时问题排查;数据清理    NaN  \n",
       "1498            机器人正则bug回归，完成失败用例一个；\\n康源留言优化测试和支持线上回归测试    NaN  \n",
       "1915                             1、三月份需求规划整理\\n2、二月份需求跟进    NaN  "
      ]
     },
     "execution_count": 45,
     "metadata": {},
     "output_type": "execute_result"
    }
   ],
   "source": [
    "df[df['工时']>10]"
   ]
  },
  {
   "cell_type": "code",
   "execution_count": null,
   "metadata": {},
   "outputs": [],
   "source": []
  }
 ],
 "metadata": {
  "kernelspec": {
   "display_name": "Python 3",
   "language": "python",
   "name": "python3"
  },
  "language_info": {
   "codemirror_mode": {
    "name": "ipython",
    "version": 3
   },
   "file_extension": ".py",
   "mimetype": "text/x-python",
   "name": "python",
   "nbconvert_exporter": "python",
   "pygments_lexer": "ipython3",
   "version": "3.7.6"
  }
 },
 "nbformat": 4,
 "nbformat_minor": 4
}

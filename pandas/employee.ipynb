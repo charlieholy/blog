{
 "cells": [
  {
   "cell_type": "code",
   "execution_count": 59,
   "metadata": {},
   "outputs": [],
   "source": [
    "import pandas as pd"
   ]
  },
  {
   "cell_type": "code",
   "execution_count": 4,
   "metadata": {},
   "outputs": [
    {
     "name": "stdout",
     "output_type": "stream",
     "text": [
      "total 816\r\n",
      "drwxr-xr-x   5 chenpeiwen  staff     160  3 31 19:36 \u001b[34m.\u001b[m\u001b[m/\r\n",
      "drwxr-xr-x  18 chenpeiwen  staff     576  3 31 19:34 \u001b[34m..\u001b[m\u001b[m/\r\n",
      "drwxr-xr-x   3 chenpeiwen  staff      96  3 31 19:35 \u001b[34m.ipynb_checkpoints\u001b[m\u001b[m/\r\n",
      "-r-xr-xr-x@  1 chenpeiwen  staff  406016  3 31 19:30 \u001b[31memploee.xls\u001b[m\u001b[m*\r\n",
      "-rw-r--r--   1 chenpeiwen  staff    6999  3 31 19:36 employee.ipynb\r\n"
     ]
    }
   ],
   "source": [
    "ls -al"
   ]
  },
  {
   "cell_type": "code",
   "execution_count": 18,
   "metadata": {},
   "outputs": [],
   "source": [
    "df = pd.read_excel('./emploee.xls')"
   ]
  },
  {
   "cell_type": "code",
   "execution_count": 29,
   "metadata": {},
   "outputs": [
    {
     "data": {
      "text/plain": [
       "array(['李洋', '苏兴骥', '梁青', '王冰洁', '陈新春', '安德望', '余啸', '俞飞翔', '金帅', '孙毅',\n",
       "       '朱雁飞', '任栩生', '崔子豪', '朱晓盈', '王家豪', '何胜华', '石侦霜', '何阿康', '金诚',\n",
       "       '朱鹏飞', '杨成龙', '谈国熊', '孙悦', '吴娜', '张水玲', '王双飞', '王仲智', '辛健润', '董元园',\n",
       "       '叶筱筱', '杨松', '骆丹颖', '李国瑶', '林伟', '陈雪', '王伟凯', '袁闯', '陈沛文', '吴昊南',\n",
       "       '韩栋', '田吉莲', '张哲先', '顾衍敏', '钱艳', '田震锋', '胡鹏飞', '任鑫', '蓝梦婷', '陈萌',\n",
       "       '段钰婷', '刘卓人', '林雨婷', '叶必成', '周海彬', '张百灵', '刘玉桃', '柯欢', '马涛', '郭欢磊',\n",
       "       '管珂珂', '沈媛娟', '朱海斌', '安毫亿', '金锐', '汪才超', '张羽', '孔月婷', '姜涛', '来雨婷',\n",
       "       '何兰兰', '米浩', '张盼', '张剑', '漆定仪', '楼冰', '孔黎明', '李琳', '侍传富', '毛丹莉',\n",
       "       '王钰淇', '晏莹莹', '吕镇君', '王勇', '赵映刚', '王黎', '王泽鹏'], dtype=object)"
      ]
     },
     "execution_count": 29,
     "metadata": {},
     "output_type": "execute_result"
    }
   ],
   "source": [
    "em = df['填写人'].unique()\n",
    "em"
   ]
  },
  {
   "cell_type": "code",
   "execution_count": 47,
   "metadata": {},
   "outputs": [
    {
     "name": "stdout",
     "output_type": "stream",
     "text": [
      "李洋\n",
      "苏兴骥\n",
      "梁青\n",
      "王冰洁\n",
      "陈新春\n",
      "安德望\n",
      "余啸\n",
      "俞飞翔\n",
      "金帅\n",
      "孙毅\n"
     ]
    }
   ],
   "source": [
    "for var in em[:10]:\n",
    "    print(var)"
   ]
  },
  {
   "cell_type": "code",
   "execution_count": 40,
   "metadata": {},
   "outputs": [],
   "source": [
    "dfnew=pd.DataFrame(columns=['总工时'])"
   ]
  },
  {
   "cell_type": "code",
   "execution_count": 48,
   "metadata": {},
   "outputs": [],
   "source": [
    "for var in em:\n",
    "    sum=df.loc[df.填写人 == var]['工时'].sum()\n",
    "    #print('填写人:',var,'总工时:',sum)\n",
    "    dfnew.loc[var]=sum"
   ]
  },
  {
   "cell_type": "code",
   "execution_count": 60,
   "metadata": {},
   "outputs": [
    {
     "data": {
      "text/html": [
       "<div>\n",
       "<style scoped>\n",
       "    .dataframe tbody tr th:only-of-type {\n",
       "        vertical-align: middle;\n",
       "    }\n",
       "\n",
       "    .dataframe tbody tr th {\n",
       "        vertical-align: top;\n",
       "    }\n",
       "\n",
       "    .dataframe thead th {\n",
       "        text-align: right;\n",
       "    }\n",
       "</style>\n",
       "<table border=\"1\" class=\"dataframe\">\n",
       "  <thead>\n",
       "    <tr style=\"text-align: right;\">\n",
       "      <th></th>\n",
       "      <th>总工时</th>\n",
       "    </tr>\n",
       "  </thead>\n",
       "  <tbody>\n",
       "    <tr>\n",
       "      <th>孙悦</th>\n",
       "      <td>7.5</td>\n",
       "    </tr>\n",
       "    <tr>\n",
       "      <th>王泽鹏</th>\n",
       "      <td>22.5</td>\n",
       "    </tr>\n",
       "    <tr>\n",
       "      <th>张水玲</th>\n",
       "      <td>45.0</td>\n",
       "    </tr>\n",
       "    <tr>\n",
       "      <th>胡鹏飞</th>\n",
       "      <td>56.0</td>\n",
       "    </tr>\n",
       "    <tr>\n",
       "      <th>王钰淇</th>\n",
       "      <td>60.0</td>\n",
       "    </tr>\n",
       "    <tr>\n",
       "      <th>...</th>\n",
       "      <td>...</td>\n",
       "    </tr>\n",
       "    <tr>\n",
       "      <th>林伟</th>\n",
       "      <td>173.5</td>\n",
       "    </tr>\n",
       "    <tr>\n",
       "      <th>杨成龙</th>\n",
       "      <td>176.0</td>\n",
       "    </tr>\n",
       "    <tr>\n",
       "      <th>张剑</th>\n",
       "      <td>178.0</td>\n",
       "    </tr>\n",
       "    <tr>\n",
       "      <th>来雨婷</th>\n",
       "      <td>189.5</td>\n",
       "    </tr>\n",
       "    <tr>\n",
       "      <th>韩栋</th>\n",
       "      <td>190.5</td>\n",
       "    </tr>\n",
       "  </tbody>\n",
       "</table>\n",
       "<p>86 rows × 1 columns</p>\n",
       "</div>"
      ],
      "text/plain": [
       "       总工时\n",
       "孙悦     7.5\n",
       "王泽鹏   22.5\n",
       "张水玲   45.0\n",
       "胡鹏飞   56.0\n",
       "王钰淇   60.0\n",
       "..     ...\n",
       "林伟   173.5\n",
       "杨成龙  176.0\n",
       "张剑   178.0\n",
       "来雨婷  189.5\n",
       "韩栋   190.5\n",
       "\n",
       "[86 rows x 1 columns]"
      ]
     },
     "execution_count": 60,
     "metadata": {},
     "output_type": "execute_result"
    }
   ],
   "source": [
    "dfnew.sort_values(by='总工时')"
   ]
  },
  {
   "cell_type": "code",
   "execution_count": 81,
   "metadata": {},
   "outputs": [
    {
     "name": "stdout",
     "output_type": "stream",
     "text": [
      "0\n",
      "      总工时\n",
      "孙悦    7.5\n",
      "王泽鹏  22.5\n",
      "张水玲  45.0\n",
      "胡鹏飞  56.0\n",
      "王钰淇  60.0\n",
      "陈萌   68.0\n",
      "米浩   81.0\n",
      "张哲先  84.0\n",
      "赵映刚  87.5\n",
      "李国瑶  92.5\n",
      "10\n",
      "       总工时\n",
      "王勇    97.5\n",
      "王黎    98.0\n",
      "毛丹莉   98.5\n",
      "吴昊南  109.5\n",
      "王双飞  110.0\n",
      "孙毅   112.5\n",
      "楼冰   112.5\n",
      "刘卓人  115.5\n",
      "晏莹莹  115.5\n",
      "郭欢磊  120.0\n"
     ]
    }
   ],
   "source": [
    "import numpy as np\n",
    "for var in  np.arange(0,20,10):\n",
    "    print(var)\n",
    "    print(dfnew.sort_values(by='总工时')[var:var+10])"
   ]
  },
  {
   "cell_type": "code",
   "execution_count": 84,
   "metadata": {},
   "outputs": [
    {
     "name": "stdout",
     "output_type": "stream",
     "text": [
      "李洋 :  0        研究python图像和办公文档处理\\n解决个人项目数据库问题\n",
      "32       研究python图像和办公文档处理\\n解决个人项目数据库问题\n",
      "112      研究python图像和办公文档处理\\n解决个人项目数据库问题\n",
      "201      研究python图像和办公文档处理\\n解决个人项目数据库问题\n",
      "296      研究python图像和办公文档处理\\n解决个人项目数据库问题\n",
      "391             研究python网络\\n解决个人项目数据库问题\n",
      "483             研究python网络\\n解决个人项目数据库问题\n",
      "577             研究python网络\\n解决个人项目数据库问题\n",
      "673             研究python网络\\n解决个人项目数据库问题\n",
      "768             研究python网络\\n解决个人项目数据库问题\n",
      "873             研究python网络\\n解决个人项目数据库问题\n",
      "985          研究python进程与线程\\n解决个人项目数据库问题\n",
      "1078         研究python进程与线程\\n解决个人项目数据库问题\n",
      "1170         研究python进程与线程\\n解决个人项目数据库问题\n",
      "1259          研究python面向对象\\n解决个人项目数据库问题\n",
      "1353          研究python面向对象\\n解决个人项目数据库问题\n",
      "1448         研究python文件和异常\\n解决个人项目数据库问题\n",
      "1538         研究python文件和异常\\n解决个人项目数据库问题\n",
      "1632    研究python字符串与常用数据结构\\n解决个人项目数据库问题\n",
      "1735    研究python字符串与常用数据结构\\n解决个人项目数据库问题\n",
      "1839          研究python文件读取\\n解决个人项目数据库问题\n",
      "Name: 工作内容, dtype: object\n"
     ]
    }
   ],
   "source": [
    "for var in em[:1]:\n",
    "    print(var,': ',df.loc[df['填写人'] == var]['工作内容'])"
   ]
  },
  {
   "cell_type": "code",
   "execution_count": 79,
   "metadata": {},
   "outputs": [
    {
     "name": "stdout",
     "output_type": "stream",
     "text": [
      "{'STIXSizeOneSym', 'Iowan Old Style', 'Skia', '.SF Compact Display', 'Hiragino Sans GB', 'Oriya MN', 'DejaVu Sans Mono', 'Apple Chancery', '.Arabic UI Text', 'DejaVu Sans', 'STIXNonUnicode', 'Snell Roundhand', 'Kefa', 'Bodoni Ornaments', 'Noteworthy', 'Menlo', 'Webdings', 'Chalkduster', 'Zapf Dingbats', 'cmsy10', 'Nadeem', 'PT Mono', 'Baskerville', 'Futura', 'Kailasa', 'Myanmar Sangam MN', 'Silom', 'DejaVu Serif', 'Geeza Pro', 'Avenir Next Condensed', 'Rockwell', 'Papyrus', 'Euphemia UCAS', 'Arial Unicode MS', 'Krungthep', 'Sathu', '.Keyboard', 'KufiStandardGK', 'Chalkboard', 'Apple Symbols', 'Lao MN', 'STIXVariants', 'PT Serif Caption', 'cmb10', 'Muna', 'Baghdad', 'Charter', 'Arial Black', 'Marion', 'DIN Condensed', 'Zapfino', 'Hoefler Text', 'Devanagari Sangam MN', 'InaiMathi', 'STIXSizeTwoSym', 'Kannada MN', 'Myanmar MN', '.SF Compact Text', 'Seravek', 'DejaVu Serif Display', 'Gurmukhi MT', 'Palatino', 'Mshtakan', 'Copperplate', 'Arial Narrow', 'Tahoma', 'Ayuthaya', 'Kohinoor Bangla', 'Corsiva Hebrew', 'DejaVu Sans Display', 'Lucida Grande', 'Khmer MN', 'STIXIntegralsUp', 'Gurmukhi MN', '.Aqua Kana', 'Gujarati MT', 'Gurmukhi Sangam MN', 'Wingdings', '.SF NS Display Condensed', 'Georgia', 'Mishafi Gold', 'Shree Devanagari 714', 'Arial Rounded MT Bold', 'Al Tarikh', 'Farah', 'New Peninim MT', 'Times', 'Damascus', 'Waseem', 'Sukhumvit Set', 'Brush Script MT', 'Kaiti SC', 'Luminari', 'Courier New', 'PT Sans', 'Big Caslon', 'Bangla Sangam MN', 'Kannada Sangam MN', 'Optima', 'Sana', 'PingFang HK', 'Bangla MN', 'Avenir', 'STIXSizeFiveSym', 'Thonburi', 'Chalkboard SE', 'Hiragino Maru Gothic Pro', 'Heiti TC', '.SF NS Text Condensed', 'Comic Sans MS', 'Trebuchet MS', 'Trattatello', 'Diwan Thuluth', '.LastResort', 'Farisi', 'Diwan Kufi', 'Apple Braille', 'Apple SD Gothic Neo', 'Wingdings 3', 'Arial', 'Lao Sangam MN', 'Andale Mono', 'STIXSizeFourSym', 'Khmer Sangam MN', 'Bradley Hand', 'Tamil Sangam MN', 'Tamil MN', 'Bodoni 72 Oldstyle', 'STIXIntegralsUpSm', 'Plantagenet Cherokee', 'Devanagari MT', 'Savoye LET', 'Bodoni 72', 'Kokonor', 'ITF Devanagari', 'Beirut', 'Noto Nastaliq Urdu', 'cmtt10', 'AppleGothic', 'Gill Sans', 'AppleMyungjo', 'Helvetica Neue', 'Mishafi', 'PT Serif', 'Marker Felt', 'cmmi10', '.SF Compact Rounded', 'DIN Alternate', 'Symbol', 'STIXIntegralsSm', 'STIXIntegralsUpD', 'System Font', '.Helvetica Neue DeskInterface', 'Sinhala Sangam MN', 'cmss10', 'Hiragino Mincho ProN', 'Malayalam MN', 'Hiragino Sans', 'Sinhala MN', 'Al Nile', 'cmr10', 'cmex10', 'Oriya Sangam MN', 'STIXIntegralsD', 'Telugu Sangam MN', 'DecoType Naskh', 'American Typewriter', 'SignPainter', 'Verdana', 'Kohinoor Devanagari', 'Times New Roman', 'Arial Hebrew', 'Didot', '.Arabic UI Display', 'Impact', 'Athelas', 'Raanana', 'Phosphate', 'Wingdings 2', 'Gujarati Sangam MN', 'Herculanum', 'Telugu MN', 'Avenir Next', 'Cochin', 'Microsoft Sans Serif', 'STIXGeneral', 'Malayalam Sangam MN', 'Bodoni 72 Smallcaps', 'Helvetica', 'Al Bayan', 'Superclarendon', 'Songti SC', 'STIXSizeThreeSym', 'Kohinoor Telugu'}\n"
     ]
    }
   ],
   "source": [
    "from matplotlib.font_manager import FontManager\n",
    "fm = FontManager()\n",
    "mat_fonts = set(f.name for f in fm.ttflist)\n",
    "print (mat_fonts)"
   ]
  },
  {
   "cell_type": "code",
   "execution_count": 80,
   "metadata": {},
   "outputs": [
    {
     "data": {
      "text/plain": [
       "<Figure size 864x900 with 0 Axes>"
      ]
     },
     "metadata": {},
     "output_type": "display_data"
    },
    {
     "data": {
      "image/png": "[encoded data removed]",
      "text/plain": [
       "<Figure size 432x288 with 1 Axes>"
      ]
     },
     "metadata": {
      "needs_background": "light"
     },
     "output_type": "display_data"
    }
   ],
   "source": [
    "#coding:utf-8\n",
    "import matplotlib.pyplot as plt\n",
    "plt.figure(figsize=(12, 12.5))\n",
    "\n",
    "plt.rcParams['font.sans-serif'] = ['Arial Unicode MS']\n",
    "plt.rcParams['axes.unicode_minus']=False #用来正常显示负号\n",
    "#plt.rcParams['font.sans-serif'] = ['Microsoft YaHei']\n",
    "dfnew[:5].plot(kind='bar')\n",
    "plt.show()"
   ]
  },
  {
   "cell_type": "code",
   "execution_count": 82,
   "metadata": {},
   "outputs": [
    {
     "data": {
      "text/html": [
       "<div>\n",
       "<style scoped>\n",
       "    .dataframe tbody tr th:only-of-type {\n",
       "        vertical-align: middle;\n",
       "    }\n",
       "\n",
       "    .dataframe tbody tr th {\n",
       "        vertical-align: top;\n",
       "    }\n",
       "\n",
       "    .dataframe thead th {\n",
       "        text-align: right;\n",
       "    }\n",
       "</style>\n",
       "<table border=\"1\" class=\"dataframe\">\n",
       "  <thead>\n",
       "    <tr style=\"text-align: right;\">\n",
       "      <th></th>\n",
       "      <th>一级部门</th>\n",
       "      <th>二级部门</th>\n",
       "      <th>填写人</th>\n",
       "      <th>日报日期</th>\n",
       "      <th>归属项目</th>\n",
       "      <th>工作类型</th>\n",
       "      <th>工时</th>\n",
       "      <th>工作内容</th>\n",
       "      <th>关联禅道任务</th>\n",
       "    </tr>\n",
       "  </thead>\n",
       "  <tbody>\n",
       "    <tr>\n",
       "      <th>0</th>\n",
       "      <td>智能产品部</td>\n",
       "      <td>智能中台产品部</td>\n",
       "      <td>李洋</td>\n",
       "      <td>2020/3/31</td>\n",
       "      <td>智能中台产品研发项目</td>\n",
       "      <td>开发工作</td>\n",
       "      <td>7.5</td>\n",
       "      <td>研究python图像和办公文档处理\\n解决个人项目数据库问题</td>\n",
       "      <td>NaN</td>\n",
       "    </tr>\n",
       "    <tr>\n",
       "      <th>1</th>\n",
       "      <td>智能产品部</td>\n",
       "      <td>项目部</td>\n",
       "      <td>苏兴骥</td>\n",
       "      <td>2020/3/31</td>\n",
       "      <td>江苏省12345市长热线项目</td>\n",
       "      <td>其它工作</td>\n",
       "      <td>7.5</td>\n",
       "      <td>1、沟通大屏工作，展示大屏。\\n2、沟通大屏需求。\\n3、和实施工程师沟通正式系统部署。\\n...</td>\n",
       "      <td>NaN</td>\n",
       "    </tr>\n",
       "    <tr>\n",
       "      <th>2</th>\n",
       "      <td>智能产品部</td>\n",
       "      <td>智能中台产品部</td>\n",
       "      <td>梁青</td>\n",
       "      <td>2020/3/31</td>\n",
       "      <td>中银金融商务排班优化项目</td>\n",
       "      <td>开发工作</td>\n",
       "      <td>6.5</td>\n",
       "      <td>完成四月份第二版方案</td>\n",
       "      <td>NaN</td>\n",
       "    </tr>\n",
       "    <tr>\n",
       "      <th>3</th>\n",
       "      <td>智能产品部</td>\n",
       "      <td>测试部</td>\n",
       "      <td>王冰洁</td>\n",
       "      <td>2020/3/30</td>\n",
       "      <td>智能交互产品研发项目</td>\n",
       "      <td>测试工作</td>\n",
       "      <td>7.5</td>\n",
       "      <td>1.编写机器人的标签推送至中台交互数据用例2.整理文档</td>\n",
       "      <td>NaN</td>\n",
       "    </tr>\n",
       "    <tr>\n",
       "      <th>4</th>\n",
       "      <td>智能产品部</td>\n",
       "      <td>前端开发部</td>\n",
       "      <td>陈新春</td>\n",
       "      <td>2020/3/30</td>\n",
       "      <td>智能中台产品研发项目</td>\n",
       "      <td>开发工作</td>\n",
       "      <td>7.5</td>\n",
       "      <td>修改流程bug;\\n流程复用数据引用需求开发；</td>\n",
       "      <td>NaN</td>\n",
       "    </tr>\n",
       "  </tbody>\n",
       "</table>\n",
       "</div>"
      ],
      "text/plain": [
       "    一级部门     二级部门  填写人        日报日期            归属项目  工作类型   工时  \\\n",
       "0  智能产品部  智能中台产品部   李洋  2020/3/31       智能中台产品研发项目  开发工作  7.5   \n",
       "1  智能产品部      项目部  苏兴骥  2020/3/31   江苏省12345市长热线项目  其它工作  7.5   \n",
       "2  智能产品部  智能中台产品部   梁青  2020/3/31     中银金融商务排班优化项目  开发工作  6.5   \n",
       "3  智能产品部      测试部  王冰洁  2020/3/30       智能交互产品研发项目  测试工作  7.5   \n",
       "4  智能产品部    前端开发部  陈新春  2020/3/30       智能中台产品研发项目  开发工作  7.5   \n",
       "\n",
       "                                                工作内容 关联禅道任务  \n",
       "0                     研究python图像和办公文档处理\\n解决个人项目数据库问题    NaN  \n",
       "1  1、沟通大屏工作，展示大屏。\\n2、沟通大屏需求。\\n3、和实施工程师沟通正式系统部署。\\n...    NaN  \n",
       "2                                         完成四月份第二版方案    NaN  \n",
       "3                        1.编写机器人的标签推送至中台交互数据用例2.整理文档    NaN  \n",
       "4                            修改流程bug;\\n流程复用数据引用需求开发；    NaN  "
      ]
     },
     "execution_count": 82,
     "metadata": {},
     "output_type": "execute_result"
    }
   ],
   "source": [
    "df.head()"
   ]
  },
  {
   "cell_type": "code",
   "execution_count": null,
   "metadata": {},
   "outputs": [],
   "source": []
  }
 ],
 "metadata": {
  "kernelspec": {
   "display_name": "Python 3",
   "language": "python",
   "name": "python3"
  },
  "language_info": {
   "codemirror_mode": {
    "name": "ipython",
    "version": 3
   },
   "file_extension": ".py",
   "mimetype": "text/x-python",
   "name": "python",
   "nbconvert_exporter": "python",
   "pygments_lexer": "ipython3",
   "version": "3.7.6"
  }
 },
 "nbformat": 4,
 "nbformat_minor": 4
}

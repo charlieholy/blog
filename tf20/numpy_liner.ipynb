{
 "cells": [
  {
   "cell_type": "code",
   "execution_count": 20,
   "metadata": {},
   "outputs": [
    {
     "data": {
      "image/png": "[encoded data removed]",
      "text/plain": [
       "<Figure size 432x288 with 1 Axes>"
      ]
     },
     "metadata": {
      "needs_background": "light"
     },
     "output_type": "display_data"
    }
   ],
   "source": [
    "import numpy as np\n",
    "import matplotlib.pyplot as plt\n",
    "\n",
    "# y = wx + b\n",
    "def compute_error_for_line_given_points(b, w, points):\n",
    "    totalError = 0\n",
    "    for i in range(0, len(points)):\n",
    "        x = points[i, 0]\n",
    "        y = points[i, 1]\n",
    "        # computer mean-squared-error\n",
    "        totalError += (y - (w * x + b)) ** 2\n",
    "    # average loss for each point\n",
    "    return totalError / float(len(points))\n",
    "\n",
    "\n",
    "\n",
    "def step_gradient(b_current, w_current, points, learningRate):\n",
    "    b_gradient = 0\n",
    "    w_gradient = 0\n",
    "    N = float(len(points))\n",
    "    for i in range(0, len(points)):\n",
    "        x = points[i, 0]\n",
    "        y = points[i, 1]\n",
    "        # grad_b = 2(wx+b-y)\n",
    "        b_gradient += (2/N) * ((w_current * x + b_current) - y)\n",
    "        #print('b_gradient:',b_gradient)\n",
    "        # grad_w = 2(wx+b-y)*x\n",
    "        w_gradient += (2/N) * x * ((w_current * x + b_current) - y)\n",
    "        #print('w_gradient:',w_gradient)\n",
    "    # update w'\n",
    "    new_b = b_current - (learningRate * b_gradient)\n",
    "    new_w = w_current - (learningRate * w_gradient)\n",
    "    return [new_b, new_w]\n",
    "\n",
    "def gradient_descent_runner(points, starting_b, starting_w, learning_rate, num_iterations):\n",
    "    b = starting_b\n",
    "    w = starting_w\n",
    "    # update for several times\n",
    "    for i in range(num_iterations):\n",
    "        b, w = step_gradient(b, w, np.array(points), learning_rate)\n",
    "    return [b, w]\n",
    "\n",
    "\n",
    "def run():\n",
    "\t\n",
    "    points = np.genfromtxt(\"data.csv\", delimiter=\",\")\n",
    "    plt.scatter(points[:,0],points[:,1])  #[[x0,y0][x1,y1]]    #point numpy 二维数组取某一列\n",
    "    #plt.show()\n",
    "    learning_rate = 0.0001\n",
    "    initial_b = 0 # initial y-intercept guess\n",
    "    initial_w = 0 # initial slope guess\n",
    "    num_iterations = 1000\n",
    "    print(\"Starting gradient descent at b = {0}, w = {1}, error = {2}\"\n",
    "          .format(initial_b, initial_w,\n",
    "                  compute_error_for_line_given_points(initial_b, initial_w, points))\n",
    "          )\n",
    "    print(\"Running...\")\n",
    "    [b, w] = gradient_descent_runner(points, initial_b, initial_w, learning_rate, num_iterations)\n",
    "    print(\"After {0} iterations b = {1}, w = {2}, error = {3}\".\n",
    "          format(num_iterations, b, w,\n",
    "                 compute_error_for_line_given_points(b, w, points))\n",
    "          )\n",
    "    px = np.arange(0,100,0.1);\n",
    "    pw = w\n",
    "    pb = b\n",
    "    py = px*w+b;\n",
    "    plt.plot(px,py)\n",
    "    plt.show()\n",
    "    \n",
    "def drewgrad():\n",
    "    x = np.arange(0,10,0.1)\n",
    "    w = 3\n",
    "    b = 1\n",
    "    y = x*w+b\n",
    "    loss =  (y - (w * x + b)) ** 2 \n",
    "    plt.plot(x,loss)\n",
    "    plt.show()\n",
    "\n",
    "\n",
    "if __name__ == '__main__':\n",
    "    run()\n",
    "    #drewgrad()"
   ]
  },
  {
   "cell_type": "code",
   "execution_count": null,
   "metadata": {},
   "outputs": [],
   "source": []
  }
 ],
 "metadata": {
  "kernelspec": {
   "display_name": "Python 3",
   "language": "python",
   "name": "python3"
  },
  "language_info": {
   "codemirror_mode": {
    "name": "ipython",
    "version": 3
   },
   "file_extension": ".py",
   "mimetype": "text/x-python",
   "name": "python",
   "nbconvert_exporter": "python",
   "pygments_lexer": "ipython3",
   "version": "3.7.6"
  }
 },
 "nbformat": 4,
 "nbformat_minor": 4
}
